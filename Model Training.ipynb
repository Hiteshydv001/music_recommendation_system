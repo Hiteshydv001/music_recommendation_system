{
 "cells": [
  {
   "cell_type": "code",
   "execution_count": 3,
   "id": "50ac34ed",
   "metadata": {},
   "outputs": [],
   "source": [
    "import pandas as pd"
   ]
  },
  {
   "cell_type": "code",
   "execution_count": 4,
   "id": "8d218487",
   "metadata": {},
   "outputs": [],
   "source": [
    "df = pd.read_csv(\"spotify_millsongdata.csv\")"
   ]
  },
  {
   "cell_type": "code",
   "execution_count": 5,
   "id": "090f0e56",
   "metadata": {},
   "outputs": [],
   "source": [
    "df = df.sample(5000).reset_index(drop=True)"
   ]
  },
  {
   "cell_type": "code",
   "execution_count": 6,
   "id": "79919672",
   "metadata": {},
   "outputs": [
    {
     "data": {
      "text/html": [
       "<div>\n",
       "<style scoped>\n",
       "    .dataframe tbody tr th:only-of-type {\n",
       "        vertical-align: middle;\n",
       "    }\n",
       "\n",
       "    .dataframe tbody tr th {\n",
       "        vertical-align: top;\n",
       "    }\n",
       "\n",
       "    .dataframe thead th {\n",
       "        text-align: right;\n",
       "    }\n",
       "</style>\n",
       "<table border=\"1\" class=\"dataframe\">\n",
       "  <thead>\n",
       "    <tr style=\"text-align: right;\">\n",
       "      <th></th>\n",
       "      <th>artist</th>\n",
       "      <th>song</th>\n",
       "      <th>link</th>\n",
       "      <th>text</th>\n",
       "    </tr>\n",
       "  </thead>\n",
       "  <tbody>\n",
       "    <tr>\n",
       "      <th>0</th>\n",
       "      <td>Ozzy Osbourne</td>\n",
       "      <td>You're No Different</td>\n",
       "      <td>/o/ozzy+osbourne/youre+no+different_20354560.html</td>\n",
       "      <td>How many times can you put me down  \\r\\nTill i...</td>\n",
       "    </tr>\n",
       "    <tr>\n",
       "      <th>1</th>\n",
       "      <td>Nitty Gritty Dirt Band</td>\n",
       "      <td>High Horse</td>\n",
       "      <td>/n/nitty+gritty+dirt+band/high+horse_20212441....</td>\n",
       "      <td>Get up on your high horse, woman  \\r\\nGet up o...</td>\n",
       "    </tr>\n",
       "    <tr>\n",
       "      <th>2</th>\n",
       "      <td>Chuck Berry</td>\n",
       "      <td>Childhood Sweetheart</td>\n",
       "      <td>/c/chuck+berry/childhood+sweetheart_20165843.html</td>\n",
       "      <td>Last night, I had a beautiful dream  \\r\\nLast ...</td>\n",
       "    </tr>\n",
       "    <tr>\n",
       "      <th>3</th>\n",
       "      <td>Red Hot Chili Peppers</td>\n",
       "      <td>Behind The Sun</td>\n",
       "      <td>/r/red+hot+chili+peppers/behind+the+sun_201148...</td>\n",
       "      <td>One day while bathing in the sea  \\r\\nMy talki...</td>\n",
       "    </tr>\n",
       "    <tr>\n",
       "      <th>4</th>\n",
       "      <td>Harry Connick, Jr.</td>\n",
       "      <td>To Love The Language</td>\n",
       "      <td>/h/harry+connick+jr/to+love+the+language_20064...</td>\n",
       "      <td>I is just what I was,  \\r\\nAnd am ain't who I ...</td>\n",
       "    </tr>\n",
       "  </tbody>\n",
       "</table>\n",
       "</div>"
      ],
      "text/plain": [
       "                   artist                  song  \\\n",
       "0           Ozzy Osbourne   You're No Different   \n",
       "1  Nitty Gritty Dirt Band            High Horse   \n",
       "2             Chuck Berry  Childhood Sweetheart   \n",
       "3   Red Hot Chili Peppers        Behind The Sun   \n",
       "4      Harry Connick, Jr.  To Love The Language   \n",
       "\n",
       "                                                link  \\\n",
       "0  /o/ozzy+osbourne/youre+no+different_20354560.html   \n",
       "1  /n/nitty+gritty+dirt+band/high+horse_20212441....   \n",
       "2  /c/chuck+berry/childhood+sweetheart_20165843.html   \n",
       "3  /r/red+hot+chili+peppers/behind+the+sun_201148...   \n",
       "4  /h/harry+connick+jr/to+love+the+language_20064...   \n",
       "\n",
       "                                                text  \n",
       "0  How many times can you put me down  \\r\\nTill i...  \n",
       "1  Get up on your high horse, woman  \\r\\nGet up o...  \n",
       "2  Last night, I had a beautiful dream  \\r\\nLast ...  \n",
       "3  One day while bathing in the sea  \\r\\nMy talki...  \n",
       "4  I is just what I was,  \\r\\nAnd am ain't who I ...  "
      ]
     },
     "execution_count": 6,
     "metadata": {},
     "output_type": "execute_result"
    }
   ],
   "source": [
    "df.head(5)"
   ]
  },
  {
   "cell_type": "code",
   "execution_count": 7,
   "id": "b61c723f",
   "metadata": {},
   "outputs": [
    {
     "data": {
      "text/html": [
       "<div>\n",
       "<style scoped>\n",
       "    .dataframe tbody tr th:only-of-type {\n",
       "        vertical-align: middle;\n",
       "    }\n",
       "\n",
       "    .dataframe tbody tr th {\n",
       "        vertical-align: top;\n",
       "    }\n",
       "\n",
       "    .dataframe thead th {\n",
       "        text-align: right;\n",
       "    }\n",
       "</style>\n",
       "<table border=\"1\" class=\"dataframe\">\n",
       "  <thead>\n",
       "    <tr style=\"text-align: right;\">\n",
       "      <th></th>\n",
       "      <th>artist</th>\n",
       "      <th>song</th>\n",
       "      <th>link</th>\n",
       "      <th>text</th>\n",
       "    </tr>\n",
       "  </thead>\n",
       "  <tbody>\n",
       "    <tr>\n",
       "      <th>4995</th>\n",
       "      <td>Tiffany</td>\n",
       "      <td>Good Enough For Me</td>\n",
       "      <td>/t/tiffany/good+enough+for+me_20204112.html</td>\n",
       "      <td>Sometimes I like to sit and watch the clouds f...</td>\n",
       "    </tr>\n",
       "    <tr>\n",
       "      <th>4996</th>\n",
       "      <td>Irving Berlin</td>\n",
       "      <td>I Never Had A Chance</td>\n",
       "      <td>/i/irving+berlin/i+never+had+a+chance_20496785...</td>\n",
       "      <td>I guess there's nothing to do  \\r\\nAnd nothing...</td>\n",
       "    </tr>\n",
       "    <tr>\n",
       "      <th>4997</th>\n",
       "      <td>Bob Dylan</td>\n",
       "      <td>Big Yellow Taxi</td>\n",
       "      <td>/b/bob+dylan/big+yellow+taxi_20021351.html</td>\n",
       "      <td>They pave paradise, they put up a parking lot ...</td>\n",
       "    </tr>\n",
       "    <tr>\n",
       "      <th>4998</th>\n",
       "      <td>Rage Against The Machine</td>\n",
       "      <td>Bullet In The Head</td>\n",
       "      <td>/r/rage+against+the+machine/bullet+in+the+head...</td>\n",
       "      <td>This time the bullet cold rocked ya  \\r\\nA yel...</td>\n",
       "    </tr>\n",
       "    <tr>\n",
       "      <th>4999</th>\n",
       "      <td>Pearl Jam</td>\n",
       "      <td>Deep</td>\n",
       "      <td>/p/pearl+jam/deep_20106367.html</td>\n",
       "      <td>On the edge  \\r\\nWindowsill  \\r\\nPonders his m...</td>\n",
       "    </tr>\n",
       "  </tbody>\n",
       "</table>\n",
       "</div>"
      ],
      "text/plain": [
       "                        artist                  song  \\\n",
       "4995                   Tiffany    Good Enough For Me   \n",
       "4996             Irving Berlin  I Never Had A Chance   \n",
       "4997                 Bob Dylan       Big Yellow Taxi   \n",
       "4998  Rage Against The Machine    Bullet In The Head   \n",
       "4999                 Pearl Jam                  Deep   \n",
       "\n",
       "                                                   link  \\\n",
       "4995        /t/tiffany/good+enough+for+me_20204112.html   \n",
       "4996  /i/irving+berlin/i+never+had+a+chance_20496785...   \n",
       "4997         /b/bob+dylan/big+yellow+taxi_20021351.html   \n",
       "4998  /r/rage+against+the+machine/bullet+in+the+head...   \n",
       "4999                    /p/pearl+jam/deep_20106367.html   \n",
       "\n",
       "                                                   text  \n",
       "4995  Sometimes I like to sit and watch the clouds f...  \n",
       "4996  I guess there's nothing to do  \\r\\nAnd nothing...  \n",
       "4997  They pave paradise, they put up a parking lot ...  \n",
       "4998  This time the bullet cold rocked ya  \\r\\nA yel...  \n",
       "4999  On the edge  \\r\\nWindowsill  \\r\\nPonders his m...  "
      ]
     },
     "execution_count": 7,
     "metadata": {},
     "output_type": "execute_result"
    }
   ],
   "source": [
    "df.tail(5)"
   ]
  },
  {
   "cell_type": "code",
   "execution_count": 8,
   "id": "d7d8fa2a",
   "metadata": {},
   "outputs": [
    {
     "data": {
      "text/plain": [
       "(5000, 4)"
      ]
     },
     "execution_count": 8,
     "metadata": {},
     "output_type": "execute_result"
    }
   ],
   "source": [
    "df.shape"
   ]
  },
  {
   "cell_type": "code",
   "execution_count": 9,
   "id": "a8fdecf9",
   "metadata": {},
   "outputs": [
    {
     "data": {
      "text/plain": [
       "artist    0\n",
       "song      0\n",
       "link      0\n",
       "text      0\n",
       "dtype: int64"
      ]
     },
     "execution_count": 9,
     "metadata": {},
     "output_type": "execute_result"
    }
   ],
   "source": [
    "df.isnull().sum()"
   ]
  },
  {
   "cell_type": "code",
   "execution_count": 10,
   "id": "cf5ff69f",
   "metadata": {},
   "outputs": [
    {
     "data": {
      "text/html": [
       "<div>\n",
       "<style scoped>\n",
       "    .dataframe tbody tr th:only-of-type {\n",
       "        vertical-align: middle;\n",
       "    }\n",
       "\n",
       "    .dataframe tbody tr th {\n",
       "        vertical-align: top;\n",
       "    }\n",
       "\n",
       "    .dataframe thead th {\n",
       "        text-align: right;\n",
       "    }\n",
       "</style>\n",
       "<table border=\"1\" class=\"dataframe\">\n",
       "  <thead>\n",
       "    <tr style=\"text-align: right;\">\n",
       "      <th></th>\n",
       "      <th>artist</th>\n",
       "      <th>song</th>\n",
       "      <th>link</th>\n",
       "      <th>text</th>\n",
       "    </tr>\n",
       "  </thead>\n",
       "  <tbody>\n",
       "    <tr>\n",
       "      <th>0</th>\n",
       "      <td>Ozzy Osbourne</td>\n",
       "      <td>You're No Different</td>\n",
       "      <td>/o/ozzy+osbourne/youre+no+different_20354560.html</td>\n",
       "      <td>How many times can you put me down  \\r\\nTill i...</td>\n",
       "    </tr>\n",
       "    <tr>\n",
       "      <th>1</th>\n",
       "      <td>Nitty Gritty Dirt Band</td>\n",
       "      <td>High Horse</td>\n",
       "      <td>/n/nitty+gritty+dirt+band/high+horse_20212441....</td>\n",
       "      <td>Get up on your high horse, woman  \\r\\nGet up o...</td>\n",
       "    </tr>\n",
       "    <tr>\n",
       "      <th>2</th>\n",
       "      <td>Chuck Berry</td>\n",
       "      <td>Childhood Sweetheart</td>\n",
       "      <td>/c/chuck+berry/childhood+sweetheart_20165843.html</td>\n",
       "      <td>Last night, I had a beautiful dream  \\r\\nLast ...</td>\n",
       "    </tr>\n",
       "    <tr>\n",
       "      <th>3</th>\n",
       "      <td>Red Hot Chili Peppers</td>\n",
       "      <td>Behind The Sun</td>\n",
       "      <td>/r/red+hot+chili+peppers/behind+the+sun_201148...</td>\n",
       "      <td>One day while bathing in the sea  \\r\\nMy talki...</td>\n",
       "    </tr>\n",
       "    <tr>\n",
       "      <th>4</th>\n",
       "      <td>Harry Connick, Jr.</td>\n",
       "      <td>To Love The Language</td>\n",
       "      <td>/h/harry+connick+jr/to+love+the+language_20064...</td>\n",
       "      <td>I is just what I was,  \\r\\nAnd am ain't who I ...</td>\n",
       "    </tr>\n",
       "    <tr>\n",
       "      <th>5</th>\n",
       "      <td>David Allan Coe</td>\n",
       "      <td>A Sense Of Humor</td>\n",
       "      <td>/d/david+allan+coe/a+sense+of+humor_20276101.html</td>\n",
       "      <td>Every night another woman every day a differen...</td>\n",
       "    </tr>\n",
       "    <tr>\n",
       "      <th>6</th>\n",
       "      <td>Young Buck</td>\n",
       "      <td>War Witcha Homeboy</td>\n",
       "      <td>/y/young+buck/war+witcha+homeboy_20404163.html</td>\n",
       "      <td>[Intro]  \\r\\nNigga, G-Unit Nigga!!  \\r\\nDayum....</td>\n",
       "    </tr>\n",
       "    <tr>\n",
       "      <th>7</th>\n",
       "      <td>Talking Heads</td>\n",
       "      <td>Pull Up The Roots</td>\n",
       "      <td>/t/talking+heads/pull+up+the+roots_20135124.html</td>\n",
       "      <td>Hello again  \\r\\nYes indeed my friend  \\r\\nI c...</td>\n",
       "    </tr>\n",
       "    <tr>\n",
       "      <th>8</th>\n",
       "      <td>George Strait</td>\n",
       "      <td>My Infinite Love</td>\n",
       "      <td>/g/george+strait/my+infinite+love_10130468.html</td>\n",
       "      <td>When you see a shooting star in the night  \\r\\...</td>\n",
       "    </tr>\n",
       "    <tr>\n",
       "      <th>9</th>\n",
       "      <td>George Michael</td>\n",
       "      <td>American Angel</td>\n",
       "      <td>/g/george+michael/american+angel_10130024.html</td>\n",
       "      <td>Bless the day you came into my life, I still r...</td>\n",
       "    </tr>\n",
       "  </tbody>\n",
       "</table>\n",
       "</div>"
      ],
      "text/plain": [
       "                   artist                  song  \\\n",
       "0           Ozzy Osbourne   You're No Different   \n",
       "1  Nitty Gritty Dirt Band            High Horse   \n",
       "2             Chuck Berry  Childhood Sweetheart   \n",
       "3   Red Hot Chili Peppers        Behind The Sun   \n",
       "4      Harry Connick, Jr.  To Love The Language   \n",
       "5         David Allan Coe      A Sense Of Humor   \n",
       "6              Young Buck    War Witcha Homeboy   \n",
       "7           Talking Heads     Pull Up The Roots   \n",
       "8           George Strait      My Infinite Love   \n",
       "9          George Michael        American Angel   \n",
       "\n",
       "                                                link  \\\n",
       "0  /o/ozzy+osbourne/youre+no+different_20354560.html   \n",
       "1  /n/nitty+gritty+dirt+band/high+horse_20212441....   \n",
       "2  /c/chuck+berry/childhood+sweetheart_20165843.html   \n",
       "3  /r/red+hot+chili+peppers/behind+the+sun_201148...   \n",
       "4  /h/harry+connick+jr/to+love+the+language_20064...   \n",
       "5  /d/david+allan+coe/a+sense+of+humor_20276101.html   \n",
       "6     /y/young+buck/war+witcha+homeboy_20404163.html   \n",
       "7   /t/talking+heads/pull+up+the+roots_20135124.html   \n",
       "8    /g/george+strait/my+infinite+love_10130468.html   \n",
       "9     /g/george+michael/american+angel_10130024.html   \n",
       "\n",
       "                                                text  \n",
       "0  How many times can you put me down  \\r\\nTill i...  \n",
       "1  Get up on your high horse, woman  \\r\\nGet up o...  \n",
       "2  Last night, I had a beautiful dream  \\r\\nLast ...  \n",
       "3  One day while bathing in the sea  \\r\\nMy talki...  \n",
       "4  I is just what I was,  \\r\\nAnd am ain't who I ...  \n",
       "5  Every night another woman every day a differen...  \n",
       "6  [Intro]  \\r\\nNigga, G-Unit Nigga!!  \\r\\nDayum....  \n",
       "7  Hello again  \\r\\nYes indeed my friend  \\r\\nI c...  \n",
       "8  When you see a shooting star in the night  \\r\\...  \n",
       "9  Bless the day you came into my life, I still r...  "
      ]
     },
     "execution_count": 10,
     "metadata": {},
     "output_type": "execute_result"
    }
   ],
   "source": [
    "df.head(10)"
   ]
  },
  {
   "cell_type": "code",
   "execution_count": 11,
   "id": "26eb5b1c",
   "metadata": {},
   "outputs": [
    {
     "data": {
      "text/plain": [
       "\"How many times can you put me down  \\r\\nTill in your heart you realize  \\r\\nIf you choose to criticize  \\r\\nYou choose your enemies  \\r\\n  \\r\\nEverything that I say and do  \\r\\nIn your eyes is always wrong  \\r\\nTell me where do I belong  \\r\\nIn a sick society  \\r\\n  \\r\\nYou're no different to me  \\r\\nYou're no different  \\r\\nNo different to me  \\r\\n  \\r\\nLook at yourself instead o' looking at me  \\r\\nWith accusation in your eyes  \\r\\nDo you want me crucified  \\r\\nFor my profanity  \\r\\n  \\r\\nConcealing your crimes behind a  \\r\\nGrandeur of lies  \\r\\nTell me where do I begin  \\r\\nIf you think you're without sin  \\r\\nThe first to cast the stone  \\r\\n  \\r\\nLiving my life in a way  \\r\\nThat I choose  \\r\\nYou say I should apologize  \\r\\nIs that envy in your eyes  \\r\\nReflecting jealousy  \\r\\n  \\r\\nTell me the truth and I'll admit  \\r\\nTo my guilt  \\r\\nIf you'll try to understand  \\r\\nBut is that blood that's on your hand  \\r\\nFrom your democracy\\r\\n\\r\\n\""
      ]
     },
     "execution_count": 11,
     "metadata": {},
     "output_type": "execute_result"
    }
   ],
   "source": [
    "df['text'][0]"
   ]
  },
  {
   "cell_type": "code",
   "execution_count": 12,
   "id": "dc76d0f4",
   "metadata": {},
   "outputs": [],
   "source": [
    "# df = df.sample(5000)"
   ]
  },
  {
   "cell_type": "code",
   "execution_count": 13,
   "id": "4a0c4186",
   "metadata": {},
   "outputs": [
    {
     "data": {
      "text/plain": [
       "(5000, 4)"
      ]
     },
     "execution_count": 13,
     "metadata": {},
     "output_type": "execute_result"
    }
   ],
   "source": [
    "df.shape"
   ]
  },
  {
   "cell_type": "markdown",
   "id": "865afecc",
   "metadata": {},
   "source": [
    "Text Cleaning/ Text Preprocessing"
   ]
  },
  {
   "cell_type": "code",
   "execution_count": 14,
   "id": "b2359525",
   "metadata": {},
   "outputs": [],
   "source": [
    "df['text'] = df['text'].str.lower().replace(r'^\\w\\s', ' ').replace(r'\\n', ' ', regex = True)"
   ]
  },
  {
   "cell_type": "code",
   "execution_count": 15,
   "id": "7e78451e",
   "metadata": {},
   "outputs": [],
   "source": [
    "import nltk\n",
    "from nltk.stem.porter import PorterStemmer\n",
    "stemmer = PorterStemmer()\n",
    "\n",
    "def tokenization(txt):\n",
    "    tokens = nltk.word_tokenize(txt)\n",
    "    stemming = [stemmer.stem(w) for w in tokens]\n",
    "    return \" \".join(stemming)\n"
   ]
  },
  {
   "cell_type": "code",
   "execution_count": 16,
   "id": "e1b98024",
   "metadata": {},
   "outputs": [
    {
     "name": "stdout",
     "output_type": "stream",
     "text": [
      "['C:\\\\Users\\\\Asus/nltk_data', 'c:\\\\ProgramData\\\\anaconda3\\\\nltk_data', 'c:\\\\ProgramData\\\\anaconda3\\\\share\\\\nltk_data', 'c:\\\\ProgramData\\\\anaconda3\\\\lib\\\\nltk_data', 'C:\\\\Users\\\\Asus\\\\AppData\\\\Roaming\\\\nltk_data', 'C:\\\\nltk_data', 'D:\\\\nltk_data', 'E:\\\\nltk_data']\n"
     ]
    },
    {
     "name": "stderr",
     "output_type": "stream",
     "text": [
      "[nltk_data] Downloading package punkt to C:\\Users\\Asus/nltk_data...\n",
      "[nltk_data]   Package punkt is already up-to-date!\n"
     ]
    },
    {
     "data": {
      "text/plain": [
       "True"
      ]
     },
     "execution_count": 16,
     "metadata": {},
     "output_type": "execute_result"
    }
   ],
   "source": [
    "import nltk\n",
    "print(nltk.data.path)\n",
    "\n",
    "nltk.download('punkt', download_dir='C:\\\\Users\\\\Asus/nltk_data')\n",
    "\n",
    "\n"
   ]
  },
  {
   "cell_type": "code",
   "execution_count": 17,
   "id": "88a1747b",
   "metadata": {},
   "outputs": [
    {
     "name": "stdout",
     "output_type": "stream",
     "text": [
      "['This', 'is', 'a', 'test', 'sentence', '.']\n"
     ]
    }
   ],
   "source": [
    "from nltk.tokenize import word_tokenize\n",
    "\n",
    "text = \"This is a test sentence.\"\n",
    "tokens = word_tokenize(text)\n",
    "print(tokens)\n"
   ]
  },
  {
   "cell_type": "code",
   "execution_count": 18,
   "id": "f5c1ece2",
   "metadata": {},
   "outputs": [],
   "source": [
    "df['text'] = df['text'].apply(lambda x: tokenization(x))"
   ]
  },
  {
   "cell_type": "code",
   "execution_count": 19,
   "id": "95fc3be2",
   "metadata": {},
   "outputs": [],
   "source": [
    "from sklearn.feature_extraction.text import TfidfVectorizer\n",
    "from sklearn.metrics.pairwise import cosine_similarity"
   ]
  },
  {
   "cell_type": "code",
   "execution_count": 20,
   "id": "f4945e8f",
   "metadata": {},
   "outputs": [],
   "source": [
    "tfidvector = TfidfVectorizer(analyzer='word',stop_words='english')\n",
    "matrix = tfidvector.fit_transform(df['text'])\n",
    "similarity = cosine_similarity(matrix)"
   ]
  },
  {
   "cell_type": "code",
   "execution_count": 21,
   "id": "c1794772",
   "metadata": {},
   "outputs": [
    {
     "data": {
      "text/plain": [
       "array([1.        , 0.00682004, 0.0351916 , ..., 0.03079587, 0.02672047,\n",
       "       0.        ])"
      ]
     },
     "execution_count": 21,
     "metadata": {},
     "output_type": "execute_result"
    }
   ],
   "source": [
    "similarity[0]"
   ]
  },
  {
   "cell_type": "code",
   "execution_count": 22,
   "id": "a6221770",
   "metadata": {},
   "outputs": [
    {
     "data": {
      "text/html": [
       "<div>\n",
       "<style scoped>\n",
       "    .dataframe tbody tr th:only-of-type {\n",
       "        vertical-align: middle;\n",
       "    }\n",
       "\n",
       "    .dataframe tbody tr th {\n",
       "        vertical-align: top;\n",
       "    }\n",
       "\n",
       "    .dataframe thead th {\n",
       "        text-align: right;\n",
       "    }\n",
       "</style>\n",
       "<table border=\"1\" class=\"dataframe\">\n",
       "  <thead>\n",
       "    <tr style=\"text-align: right;\">\n",
       "      <th></th>\n",
       "      <th>artist</th>\n",
       "      <th>song</th>\n",
       "      <th>link</th>\n",
       "      <th>text</th>\n",
       "    </tr>\n",
       "  </thead>\n",
       "  <tbody>\n",
       "  </tbody>\n",
       "</table>\n",
       "</div>"
      ],
      "text/plain": [
       "Empty DataFrame\n",
       "Columns: [artist, song, link, text]\n",
       "Index: []"
      ]
     },
     "execution_count": 22,
     "metadata": {},
     "output_type": "execute_result"
    }
   ],
   "source": [
    "df[df['song'] == 'Crying Over You']"
   ]
  },
  {
   "cell_type": "code",
   "execution_count": 23,
   "id": "5aaa2361",
   "metadata": {},
   "outputs": [],
   "source": [
    "def recommendation(song_df):\n",
    "    idx = df[df['song'] == song_df].index[0]\n",
    "    distances = sorted(list(enumerate(similarity[idx])),reverse=True,key=lambda x:x[1])\n",
    "    \n",
    "    songs = []\n",
    "    for m_id in distances[1:21]:\n",
    "        songs.append(df.iloc[m_id[0]].song)\n",
    "        \n",
    "    return songs"
   ]
  },
  {
   "cell_type": "code",
   "execution_count": 26,
   "id": "18192437",
   "metadata": {},
   "outputs": [],
   "source": [
    "import pickle\n",
    "pickle.dump(similarity,open('similarity.pkl','wb'))\n",
    "pickle.dump(df,open('df.pkl','wb'))"
   ]
  },
  {
   "cell_type": "code",
   "execution_count": 28,
   "id": "e7edcf20",
   "metadata": {},
   "outputs": [],
   "source": [
    "import gzip\n",
    "import pickle\n",
    "\n",
    "def compress_pickle(file_path):\n",
    "    # Load the object to be pickled\n",
    "    with open(file_path, 'rb') as f:\n",
    "        data = pickle.load(f)\n",
    "\n",
    "    # Compress the pickle file\n",
    "    with gzip.open(file_path + '.gz', 'wb') as f:\n",
    "        pickle.dump(data, f)\n",
    "\n",
    "# Usage\n",
    "compress_pickle('df.pkl')\n"
   ]
  },
  {
   "cell_type": "code",
   "execution_count": null,
   "id": "2ac94f97",
   "metadata": {},
   "outputs": [],
   "source": []
  }
 ],
 "metadata": {
  "kernelspec": {
   "display_name": "base",
   "language": "python",
   "name": "python3"
  },
  "language_info": {
   "codemirror_mode": {
    "name": "ipython",
    "version": 3
   },
   "file_extension": ".py",
   "mimetype": "text/x-python",
   "name": "python",
   "nbconvert_exporter": "python",
   "pygments_lexer": "ipython3",
   "version": "3.12.4"
  }
 },
 "nbformat": 4,
 "nbformat_minor": 5
}
