{
 "cells": [
  {
   "cell_type": "code",
   "execution_count": 1,
   "id": "50ac34ed",
   "metadata": {},
   "outputs": [],
   "source": [
    "import pandas as pd"
   ]
  },
  {
   "cell_type": "code",
   "execution_count": 2,
   "id": "8d218487",
   "metadata": {},
   "outputs": [],
   "source": [
    "df = pd.read_csv(\"spotify_millsongdata.csv\")"
   ]
  },
  {
   "cell_type": "code",
   "execution_count": 3,
   "id": "090f0e56",
   "metadata": {},
   "outputs": [],
   "source": [
    "df = df.sample(5000).reset_index(drop=True)"
   ]
  },
  {
   "cell_type": "code",
   "execution_count": 4,
   "id": "79919672",
   "metadata": {},
   "outputs": [
    {
     "data": {
      "text/html": [
       "<div>\n",
       "<style scoped>\n",
       "    .dataframe tbody tr th:only-of-type {\n",
       "        vertical-align: middle;\n",
       "    }\n",
       "\n",
       "    .dataframe tbody tr th {\n",
       "        vertical-align: top;\n",
       "    }\n",
       "\n",
       "    .dataframe thead th {\n",
       "        text-align: right;\n",
       "    }\n",
       "</style>\n",
       "<table border=\"1\" class=\"dataframe\">\n",
       "  <thead>\n",
       "    <tr style=\"text-align: right;\">\n",
       "      <th></th>\n",
       "      <th>artist</th>\n",
       "      <th>song</th>\n",
       "      <th>link</th>\n",
       "      <th>text</th>\n",
       "    </tr>\n",
       "  </thead>\n",
       "  <tbody>\n",
       "    <tr>\n",
       "      <th>0</th>\n",
       "      <td>Leo Sayer</td>\n",
       "      <td>World Radio</td>\n",
       "      <td>/l/leo+sayer/world+radio_20718537.html</td>\n",
       "      <td>I am the voice  \\r\\nI am the radio  \\r\\nYou he...</td>\n",
       "    </tr>\n",
       "    <tr>\n",
       "      <th>1</th>\n",
       "      <td>Allman Brothers Band</td>\n",
       "      <td>Low Down Dirty Mean</td>\n",
       "      <td>/a/allman+brothers+band/low+down+dirty+mean_20...</td>\n",
       "      <td>[Chorus]  \\r\\nAin't that low down, low down di...</td>\n",
       "    </tr>\n",
       "    <tr>\n",
       "      <th>2</th>\n",
       "      <td>Kenny Rogers</td>\n",
       "      <td>She Even Woke Me Up To Say Goodbye</td>\n",
       "      <td>/k/kenny+rogers/she+even+woke+me+up+to+say+goo...</td>\n",
       "      <td>Well the morning's come  \\r\\nAnd Lord my mind ...</td>\n",
       "    </tr>\n",
       "    <tr>\n",
       "      <th>3</th>\n",
       "      <td>Steve Miller Band</td>\n",
       "      <td>Perfect World</td>\n",
       "      <td>/s/steve+miller+band/perfect+world_20295887.html</td>\n",
       "      <td>So you found someone  \\r\\nYou found some heart...</td>\n",
       "    </tr>\n",
       "    <tr>\n",
       "      <th>4</th>\n",
       "      <td>Whitney Houston</td>\n",
       "      <td>If I Told You That</td>\n",
       "      <td>/w/whitney+houston/if+i+told+you+that_20146387...</td>\n",
       "      <td>Now tell me how you'd feel  \\r\\nIf I told you ...</td>\n",
       "    </tr>\n",
       "  </tbody>\n",
       "</table>\n",
       "</div>"
      ],
      "text/plain": [
       "                 artist                                song  \\\n",
       "0             Leo Sayer                         World Radio   \n",
       "1  Allman Brothers Band                 Low Down Dirty Mean   \n",
       "2          Kenny Rogers  She Even Woke Me Up To Say Goodbye   \n",
       "3     Steve Miller Band                       Perfect World   \n",
       "4       Whitney Houston                  If I Told You That   \n",
       "\n",
       "                                                link  \\\n",
       "0             /l/leo+sayer/world+radio_20718537.html   \n",
       "1  /a/allman+brothers+band/low+down+dirty+mean_20...   \n",
       "2  /k/kenny+rogers/she+even+woke+me+up+to+say+goo...   \n",
       "3   /s/steve+miller+band/perfect+world_20295887.html   \n",
       "4  /w/whitney+houston/if+i+told+you+that_20146387...   \n",
       "\n",
       "                                                text  \n",
       "0  I am the voice  \\r\\nI am the radio  \\r\\nYou he...  \n",
       "1  [Chorus]  \\r\\nAin't that low down, low down di...  \n",
       "2  Well the morning's come  \\r\\nAnd Lord my mind ...  \n",
       "3  So you found someone  \\r\\nYou found some heart...  \n",
       "4  Now tell me how you'd feel  \\r\\nIf I told you ...  "
      ]
     },
     "execution_count": 4,
     "metadata": {},
     "output_type": "execute_result"
    }
   ],
   "source": [
    "df.head(5)"
   ]
  },
  {
   "cell_type": "code",
   "execution_count": 5,
   "id": "b61c723f",
   "metadata": {},
   "outputs": [
    {
     "data": {
      "text/html": [
       "<div>\n",
       "<style scoped>\n",
       "    .dataframe tbody tr th:only-of-type {\n",
       "        vertical-align: middle;\n",
       "    }\n",
       "\n",
       "    .dataframe tbody tr th {\n",
       "        vertical-align: top;\n",
       "    }\n",
       "\n",
       "    .dataframe thead th {\n",
       "        text-align: right;\n",
       "    }\n",
       "</style>\n",
       "<table border=\"1\" class=\"dataframe\">\n",
       "  <thead>\n",
       "    <tr style=\"text-align: right;\">\n",
       "      <th></th>\n",
       "      <th>artist</th>\n",
       "      <th>song</th>\n",
       "      <th>link</th>\n",
       "      <th>text</th>\n",
       "    </tr>\n",
       "  </thead>\n",
       "  <tbody>\n",
       "    <tr>\n",
       "      <th>4995</th>\n",
       "      <td>Kim Wilde</td>\n",
       "      <td>House Of Salome</td>\n",
       "      <td>/k/kim+wilde/house+of+salome_20078463.html</td>\n",
       "      <td>Shadows run in the heat of the desert  \\r\\nHan...</td>\n",
       "    </tr>\n",
       "    <tr>\n",
       "      <th>4996</th>\n",
       "      <td>Peter Gabriel</td>\n",
       "      <td>No Self Control</td>\n",
       "      <td>/p/peter+gabriel/no+self+control_20107446.html</td>\n",
       "      <td>Got to get some food  \\r\\nI'm so hungry all th...</td>\n",
       "    </tr>\n",
       "    <tr>\n",
       "      <th>4997</th>\n",
       "      <td>Hollies</td>\n",
       "      <td>Pick Up The Pieces Again</td>\n",
       "      <td>/h/hollies/pick+up+the+pieces+again_20065681.html</td>\n",
       "      <td>(sylvester)  \\r\\nEvening, I see the sun  \\r\\nL...</td>\n",
       "    </tr>\n",
       "    <tr>\n",
       "      <th>4998</th>\n",
       "      <td>XTC</td>\n",
       "      <td>Holly Up On Poppy</td>\n",
       "      <td>/x/xtc/holly+up+on+poppy_20147774.html</td>\n",
       "      <td>Holly up on Poppy  \\r\\nCanter never stop  \\r\\n...</td>\n",
       "    </tr>\n",
       "    <tr>\n",
       "      <th>4999</th>\n",
       "      <td>Wanda Jackson</td>\n",
       "      <td>I'd Like To Help You Out</td>\n",
       "      <td>/w/wanda+jackson/id+like+to+help+you+out_20533...</td>\n",
       "      <td>Just as I expected here you are back at my doo...</td>\n",
       "    </tr>\n",
       "  </tbody>\n",
       "</table>\n",
       "</div>"
      ],
      "text/plain": [
       "             artist                      song  \\\n",
       "4995      Kim Wilde           House Of Salome   \n",
       "4996  Peter Gabriel           No Self Control   \n",
       "4997        Hollies  Pick Up The Pieces Again   \n",
       "4998            XTC         Holly Up On Poppy   \n",
       "4999  Wanda Jackson  I'd Like To Help You Out   \n",
       "\n",
       "                                                   link  \\\n",
       "4995         /k/kim+wilde/house+of+salome_20078463.html   \n",
       "4996     /p/peter+gabriel/no+self+control_20107446.html   \n",
       "4997  /h/hollies/pick+up+the+pieces+again_20065681.html   \n",
       "4998             /x/xtc/holly+up+on+poppy_20147774.html   \n",
       "4999  /w/wanda+jackson/id+like+to+help+you+out_20533...   \n",
       "\n",
       "                                                   text  \n",
       "4995  Shadows run in the heat of the desert  \\r\\nHan...  \n",
       "4996  Got to get some food  \\r\\nI'm so hungry all th...  \n",
       "4997  (sylvester)  \\r\\nEvening, I see the sun  \\r\\nL...  \n",
       "4998  Holly up on Poppy  \\r\\nCanter never stop  \\r\\n...  \n",
       "4999  Just as I expected here you are back at my doo...  "
      ]
     },
     "execution_count": 5,
     "metadata": {},
     "output_type": "execute_result"
    }
   ],
   "source": [
    "df.tail(5)"
   ]
  },
  {
   "cell_type": "code",
   "execution_count": 6,
   "id": "d7d8fa2a",
   "metadata": {},
   "outputs": [
    {
     "data": {
      "text/plain": [
       "(5000, 4)"
      ]
     },
     "execution_count": 6,
     "metadata": {},
     "output_type": "execute_result"
    }
   ],
   "source": [
    "df.shape"
   ]
  },
  {
   "cell_type": "code",
   "execution_count": 7,
   "id": "a8fdecf9",
   "metadata": {},
   "outputs": [
    {
     "data": {
      "text/plain": [
       "artist    0\n",
       "song      0\n",
       "link      0\n",
       "text      0\n",
       "dtype: int64"
      ]
     },
     "execution_count": 7,
     "metadata": {},
     "output_type": "execute_result"
    }
   ],
   "source": [
    "df.isnull().sum()"
   ]
  },
  {
   "cell_type": "code",
   "execution_count": 8,
   "id": "cf5ff69f",
   "metadata": {},
   "outputs": [
    {
     "data": {
      "text/html": [
       "<div>\n",
       "<style scoped>\n",
       "    .dataframe tbody tr th:only-of-type {\n",
       "        vertical-align: middle;\n",
       "    }\n",
       "\n",
       "    .dataframe tbody tr th {\n",
       "        vertical-align: top;\n",
       "    }\n",
       "\n",
       "    .dataframe thead th {\n",
       "        text-align: right;\n",
       "    }\n",
       "</style>\n",
       "<table border=\"1\" class=\"dataframe\">\n",
       "  <thead>\n",
       "    <tr style=\"text-align: right;\">\n",
       "      <th></th>\n",
       "      <th>artist</th>\n",
       "      <th>song</th>\n",
       "      <th>link</th>\n",
       "      <th>text</th>\n",
       "    </tr>\n",
       "  </thead>\n",
       "  <tbody>\n",
       "    <tr>\n",
       "      <th>0</th>\n",
       "      <td>Leo Sayer</td>\n",
       "      <td>World Radio</td>\n",
       "      <td>/l/leo+sayer/world+radio_20718537.html</td>\n",
       "      <td>I am the voice  \\r\\nI am the radio  \\r\\nYou he...</td>\n",
       "    </tr>\n",
       "    <tr>\n",
       "      <th>1</th>\n",
       "      <td>Allman Brothers Band</td>\n",
       "      <td>Low Down Dirty Mean</td>\n",
       "      <td>/a/allman+brothers+band/low+down+dirty+mean_20...</td>\n",
       "      <td>[Chorus]  \\r\\nAin't that low down, low down di...</td>\n",
       "    </tr>\n",
       "    <tr>\n",
       "      <th>2</th>\n",
       "      <td>Kenny Rogers</td>\n",
       "      <td>She Even Woke Me Up To Say Goodbye</td>\n",
       "      <td>/k/kenny+rogers/she+even+woke+me+up+to+say+goo...</td>\n",
       "      <td>Well the morning's come  \\r\\nAnd Lord my mind ...</td>\n",
       "    </tr>\n",
       "    <tr>\n",
       "      <th>3</th>\n",
       "      <td>Steve Miller Band</td>\n",
       "      <td>Perfect World</td>\n",
       "      <td>/s/steve+miller+band/perfect+world_20295887.html</td>\n",
       "      <td>So you found someone  \\r\\nYou found some heart...</td>\n",
       "    </tr>\n",
       "    <tr>\n",
       "      <th>4</th>\n",
       "      <td>Whitney Houston</td>\n",
       "      <td>If I Told You That</td>\n",
       "      <td>/w/whitney+houston/if+i+told+you+that_20146387...</td>\n",
       "      <td>Now tell me how you'd feel  \\r\\nIf I told you ...</td>\n",
       "    </tr>\n",
       "    <tr>\n",
       "      <th>5</th>\n",
       "      <td>Xiu Xiu</td>\n",
       "      <td>Ian Curtis Wishlist</td>\n",
       "      <td>/x/xiu+xiu/ian+curtis+wishlist_20270782.html</td>\n",
       "      <td>Someday J.S.  \\r\\nWhen you tell me everything ...</td>\n",
       "    </tr>\n",
       "    <tr>\n",
       "      <th>6</th>\n",
       "      <td>Britney Spears</td>\n",
       "      <td>How I Roll</td>\n",
       "      <td>/b/britney+spears/how+i+roll_20904173.html</td>\n",
       "      <td>Burn it all down  \\r\\nNeed to buy another roun...</td>\n",
       "    </tr>\n",
       "    <tr>\n",
       "      <th>7</th>\n",
       "      <td>David Allan Coe</td>\n",
       "      <td>Loving Her (Will Make You Lose Your Mind)</td>\n",
       "      <td>/d/david+allan+coe/loving+her+will+make+you+lo...</td>\n",
       "      <td>By David Allan Coe  \\r\\nSHE'S EVERYTHING YOU L...</td>\n",
       "    </tr>\n",
       "    <tr>\n",
       "      <th>8</th>\n",
       "      <td>Dave Matthews Band</td>\n",
       "      <td>Rye Whiskey</td>\n",
       "      <td>/d/dave+matthews+band/rye+whiskey_21049284.html</td>\n",
       "      <td>Rye Whiskey, Rye Whiskey, Rye Whiskey I cryyyy...</td>\n",
       "    </tr>\n",
       "    <tr>\n",
       "      <th>9</th>\n",
       "      <td>LL Cool J</td>\n",
       "      <td>LL Cool J Skit</td>\n",
       "      <td>/l/ll+cool+j/ll+cool+j+skit_20955904.html</td>\n",
       "      <td>[J-Ro]  \\r\\nYo whassup whassup yo?  \\r\\nYo we ...</td>\n",
       "    </tr>\n",
       "  </tbody>\n",
       "</table>\n",
       "</div>"
      ],
      "text/plain": [
       "                 artist                                       song  \\\n",
       "0             Leo Sayer                                World Radio   \n",
       "1  Allman Brothers Band                        Low Down Dirty Mean   \n",
       "2          Kenny Rogers         She Even Woke Me Up To Say Goodbye   \n",
       "3     Steve Miller Band                              Perfect World   \n",
       "4       Whitney Houston                         If I Told You That   \n",
       "5               Xiu Xiu                        Ian Curtis Wishlist   \n",
       "6        Britney Spears                                 How I Roll   \n",
       "7       David Allan Coe  Loving Her (Will Make You Lose Your Mind)   \n",
       "8    Dave Matthews Band                                Rye Whiskey   \n",
       "9             LL Cool J                             LL Cool J Skit   \n",
       "\n",
       "                                                link  \\\n",
       "0             /l/leo+sayer/world+radio_20718537.html   \n",
       "1  /a/allman+brothers+band/low+down+dirty+mean_20...   \n",
       "2  /k/kenny+rogers/she+even+woke+me+up+to+say+goo...   \n",
       "3   /s/steve+miller+band/perfect+world_20295887.html   \n",
       "4  /w/whitney+houston/if+i+told+you+that_20146387...   \n",
       "5       /x/xiu+xiu/ian+curtis+wishlist_20270782.html   \n",
       "6         /b/britney+spears/how+i+roll_20904173.html   \n",
       "7  /d/david+allan+coe/loving+her+will+make+you+lo...   \n",
       "8    /d/dave+matthews+band/rye+whiskey_21049284.html   \n",
       "9          /l/ll+cool+j/ll+cool+j+skit_20955904.html   \n",
       "\n",
       "                                                text  \n",
       "0  I am the voice  \\r\\nI am the radio  \\r\\nYou he...  \n",
       "1  [Chorus]  \\r\\nAin't that low down, low down di...  \n",
       "2  Well the morning's come  \\r\\nAnd Lord my mind ...  \n",
       "3  So you found someone  \\r\\nYou found some heart...  \n",
       "4  Now tell me how you'd feel  \\r\\nIf I told you ...  \n",
       "5  Someday J.S.  \\r\\nWhen you tell me everything ...  \n",
       "6  Burn it all down  \\r\\nNeed to buy another roun...  \n",
       "7  By David Allan Coe  \\r\\nSHE'S EVERYTHING YOU L...  \n",
       "8  Rye Whiskey, Rye Whiskey, Rye Whiskey I cryyyy...  \n",
       "9  [J-Ro]  \\r\\nYo whassup whassup yo?  \\r\\nYo we ...  "
      ]
     },
     "execution_count": 8,
     "metadata": {},
     "output_type": "execute_result"
    }
   ],
   "source": [
    "df.head(10)"
   ]
  },
  {
   "cell_type": "code",
   "execution_count": 9,
   "id": "26eb5b1c",
   "metadata": {},
   "outputs": [
    {
     "data": {
      "text/plain": [
       "\"I am the voice  \\r\\nI am the radio  \\r\\nYou hear me loud and clear  \\r\\nAcross the open sky  \\r\\n  \\r\\nInto the night  \\r\\nYou hear me loud and clear  \\r\\nI was thinking you're a part of my mind  \\r\\nBreathing sleeping talking two of a kind  \\r\\n  \\r\\nI'm the voice in your head  \\r\\n(do you read me)  \\r\\nThe word you just said  \\r\\n(do you hear me)  \\r\\n  \\r\\nAah - the world goes spinning around  \\r\\nAah - and you all join in with the sound  \\r\\nAah - we sing with one voice  \\r\\nLike a world radio  \\r\\nAah - we sing with one voice  \\r\\nLike a world radio  \\r\\n  \\r\\nI feel the pain  \\r\\nI feel the joy and love  \\r\\nYou hear it loud and clear  \\r\\nBut should the music stop  \\r\\n  \\r\\nI'll feel so low  \\r\\nI'll fade and disappear  \\r\\nI'm just thinking that we're two of a kind  \\r\\nThink I know what's going on in your mind  \\r\\n  \\r\\nWhen the red light goes on  \\r\\n(can you tell me)  \\r\\nIs your green light still on  \\r\\n(do your hear me)  \\r\\n  \\r\\nAah - the world goes spinning around  \\r\\nAah - and you all join in with the sound  \\r\\nAah - we sing with one voice  \\r\\nWe're a world radio  \\r\\nAah - we sing with one voice  \\r\\nWe're a world radio  \\r\\nThe world goes spinning around  \\r\\nAah - we all join in with the sound  \\r\\nAah - we sing with one voice  \\r\\nLike a world radio  \\r\\n  \\r\\nWe join in with the sound  \\r\\nThe world goes spinning, spinning around  \\r\\nAah - we sing with one voice  \\r\\nWe're a world radio  \\r\\n  \\r\\nAah - we sing with one voice  \\r\\nWe're a world radio  \\r\\nRadio  \\r\\nIs the green light on  \\r\\n(can you tell me)  \\r\\nDon't put your red light on  \\r\\n(do you read me)  \\r\\nI know the green light's on  \\r\\nDon't put, don't put your red light on  \\r\\nIs the green light on\\r\\n\\r\\n\""
      ]
     },
     "execution_count": 9,
     "metadata": {},
     "output_type": "execute_result"
    }
   ],
   "source": [
    "df['text'][0]"
   ]
  },
  {
   "cell_type": "code",
   "execution_count": 10,
   "id": "dc76d0f4",
   "metadata": {},
   "outputs": [],
   "source": [
    "# df = df.sample(5000)"
   ]
  },
  {
   "cell_type": "code",
   "execution_count": 11,
   "id": "4a0c4186",
   "metadata": {},
   "outputs": [
    {
     "data": {
      "text/plain": [
       "(5000, 4)"
      ]
     },
     "execution_count": 11,
     "metadata": {},
     "output_type": "execute_result"
    }
   ],
   "source": [
    "df.shape"
   ]
  },
  {
   "cell_type": "markdown",
   "id": "865afecc",
   "metadata": {},
   "source": [
    "Text Cleaning/ Text Preprocessing"
   ]
  },
  {
   "cell_type": "code",
   "execution_count": 12,
   "id": "b2359525",
   "metadata": {},
   "outputs": [],
   "source": [
    "df['text'] = df['text'].str.lower().replace(r'^\\w\\s', ' ').replace(r'\\n', ' ', regex = True)"
   ]
  },
  {
   "cell_type": "code",
   "execution_count": 13,
   "id": "7e78451e",
   "metadata": {},
   "outputs": [],
   "source": [
    "import nltk\n",
    "from nltk.stem.porter import PorterStemmer\n",
    "stemmer = PorterStemmer()\n",
    "\n",
    "def tokenization(txt):\n",
    "    tokens = nltk.word_tokenize(txt)\n",
    "    stemming = [stemmer.stem(w) for w in tokens]\n",
    "    return \" \".join(stemming)\n"
   ]
  },
  {
   "cell_type": "code",
   "execution_count": 14,
   "id": "e1b98024",
   "metadata": {},
   "outputs": [
    {
     "name": "stdout",
     "output_type": "stream",
     "text": [
      "['C:\\\\Users\\\\Asus/nltk_data', 'c:\\\\ProgramData\\\\anaconda3\\\\nltk_data', 'c:\\\\ProgramData\\\\anaconda3\\\\share\\\\nltk_data', 'c:\\\\ProgramData\\\\anaconda3\\\\lib\\\\nltk_data', 'C:\\\\Users\\\\Asus\\\\AppData\\\\Roaming\\\\nltk_data', 'C:\\\\nltk_data', 'D:\\\\nltk_data', 'E:\\\\nltk_data']\n"
     ]
    },
    {
     "name": "stderr",
     "output_type": "stream",
     "text": [
      "[nltk_data] Downloading package punkt to C:\\Users\\Asus/nltk_data...\n",
      "[nltk_data]   Package punkt is already up-to-date!\n"
     ]
    },
    {
     "data": {
      "text/plain": [
       "True"
      ]
     },
     "execution_count": 14,
     "metadata": {},
     "output_type": "execute_result"
    }
   ],
   "source": [
    "import nltk\n",
    "print(nltk.data.path)\n",
    "\n",
    "nltk.download('punkt', download_dir='C:\\\\Users\\\\Asus/nltk_data')\n",
    "\n",
    "\n"
   ]
  },
  {
   "cell_type": "code",
   "execution_count": 15,
   "id": "88a1747b",
   "metadata": {},
   "outputs": [
    {
     "name": "stdout",
     "output_type": "stream",
     "text": [
      "['This', 'is', 'a', 'test', 'sentence', '.']\n"
     ]
    }
   ],
   "source": [
    "from nltk.tokenize import word_tokenize\n",
    "\n",
    "text = \"This is a test sentence.\"\n",
    "tokens = word_tokenize(text)\n",
    "print(tokens)\n"
   ]
  },
  {
   "cell_type": "code",
   "execution_count": 16,
   "id": "f5c1ece2",
   "metadata": {},
   "outputs": [],
   "source": [
    "df['text'] = df['text'].apply(lambda x: tokenization(x))"
   ]
  },
  {
   "cell_type": "code",
   "execution_count": 17,
   "id": "95fc3be2",
   "metadata": {},
   "outputs": [],
   "source": [
    "from sklearn.feature_extraction.text import TfidfVectorizer\n",
    "from sklearn.metrics.pairwise import cosine_similarity"
   ]
  },
  {
   "cell_type": "code",
   "execution_count": 18,
   "id": "f4945e8f",
   "metadata": {},
   "outputs": [],
   "source": [
    "tfidvector = TfidfVectorizer(analyzer='word',stop_words='english')\n",
    "matrix = tfidvector.fit_transform(df['text'])\n",
    "similarity = cosine_similarity(matrix)"
   ]
  },
  {
   "cell_type": "code",
   "execution_count": 19,
   "id": "c1794772",
   "metadata": {},
   "outputs": [
    {
     "data": {
      "text/plain": [
       "array([1.        , 0.02526949, 0.0408676 , ..., 0.04049328, 0.01731198,\n",
       "       0.02108003])"
      ]
     },
     "execution_count": 19,
     "metadata": {},
     "output_type": "execute_result"
    }
   ],
   "source": [
    "similarity[0]"
   ]
  },
  {
   "cell_type": "code",
   "execution_count": 20,
   "id": "a6221770",
   "metadata": {},
   "outputs": [
    {
     "data": {
      "text/html": [
       "<div>\n",
       "<style scoped>\n",
       "    .dataframe tbody tr th:only-of-type {\n",
       "        vertical-align: middle;\n",
       "    }\n",
       "\n",
       "    .dataframe tbody tr th {\n",
       "        vertical-align: top;\n",
       "    }\n",
       "\n",
       "    .dataframe thead th {\n",
       "        text-align: right;\n",
       "    }\n",
       "</style>\n",
       "<table border=\"1\" class=\"dataframe\">\n",
       "  <thead>\n",
       "    <tr style=\"text-align: right;\">\n",
       "      <th></th>\n",
       "      <th>artist</th>\n",
       "      <th>song</th>\n",
       "      <th>link</th>\n",
       "      <th>text</th>\n",
       "    </tr>\n",
       "  </thead>\n",
       "  <tbody>\n",
       "  </tbody>\n",
       "</table>\n",
       "</div>"
      ],
      "text/plain": [
       "Empty DataFrame\n",
       "Columns: [artist, song, link, text]\n",
       "Index: []"
      ]
     },
     "execution_count": 20,
     "metadata": {},
     "output_type": "execute_result"
    }
   ],
   "source": [
    "df[df['song'] == 'Crying Over You']"
   ]
  },
  {
   "cell_type": "code",
   "execution_count": 21,
   "id": "5aaa2361",
   "metadata": {},
   "outputs": [],
   "source": [
    "def recommendation(song_df):\n",
    "    idx = df[df['song'] == song_df].index[0]\n",
    "    distances = sorted(list(enumerate(similarity[idx])),reverse=True,key=lambda x:x[1])\n",
    "    \n",
    "    songs = []\n",
    "    for m_id in distances[1:21]:\n",
    "        songs.append(df.iloc[m_id[0]].song)\n",
    "        \n",
    "    return songs"
   ]
  },
  {
   "cell_type": "code",
   "execution_count": 22,
   "id": "18192437",
   "metadata": {},
   "outputs": [],
   "source": [
    "import pickle\n",
    "pickle.dump(similarity,open('similarity.pkl','wb'))\n",
    "pickle.dump(df,open('df.pkl','wb'))"
   ]
  },
  {
   "cell_type": "code",
   "execution_count": 24,
   "id": "e7edcf20",
   "metadata": {},
   "outputs": [],
   "source": [
    "import gzip\n",
    "import pickle\n",
    "\n",
    "def compress_pickle(file_path):\n",
    "    # Load the object to be pickled\n",
    "    with open(file_path, 'rb') as f:\n",
    "        data = pickle.load(f)\n",
    "\n",
    "    # Compress the pickle file\n",
    "    with gzip.open(file_path + '.gz', 'wb') as f:\n",
    "        pickle.dump(data, f)\n",
    "\n",
    "# Usage\n",
    "compress_pickle('similarity.pkl')\n"
   ]
  },
  {
   "cell_type": "code",
   "execution_count": null,
   "id": "2ac94f97",
   "metadata": {},
   "outputs": [],
   "source": []
  }
 ],
 "metadata": {
  "kernelspec": {
   "display_name": "base",
   "language": "python",
   "name": "python3"
  },
  "language_info": {
   "codemirror_mode": {
    "name": "ipython",
    "version": 3
   },
   "file_extension": ".py",
   "mimetype": "text/x-python",
   "name": "python",
   "nbconvert_exporter": "python",
   "pygments_lexer": "ipython3",
   "version": "3.12.4"
  }
 },
 "nbformat": 4,
 "nbformat_minor": 5
}
